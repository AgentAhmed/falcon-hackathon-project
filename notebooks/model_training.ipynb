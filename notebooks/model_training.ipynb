{
 "cells": [
  {
   "cell_type": "code",
   "execution_count": 54,
   "metadata": {},
   "outputs": [],
   "source": [
    "import pandas as pd\n",
    "import numpy as np\n",
    "import pickle\n",
    "from sklearn.decomposition import TruncatedSVD\n",
    "from sklearn.neighbors import NearestNeighbors\n",
    "from sklearn.feature_extraction.text import TfidfVectorizer\n",
    "from sklearn.metrics.pairwise import cosine_similarity\n",
    "from sklearn.metrics import precision_score, recall_score\n"
   ]
  },
  {
   "cell_type": "code",
   "execution_count": 55,
   "metadata": {},
   "outputs": [],
   "source": [
    "# Load preprocessed data\n",
    "df = pd.read_csv('../data/amazon_sales.csv')  # its a cleaned dataset"
   ]
  },
  {
   "cell_type": "code",
   "execution_count": 49,
   "metadata": {},
   "outputs": [],
   "source": [
    "# Function to train Content-Based Model\n",
    "def train_content_model(item_profiles):\n",
    "    with open('../models/content_model.pkl', 'wb') as f:\n",
    "        pickle.dump(item_profiles, f)\n",
    "    return item_profiles"
   ]
  },
  {
   "cell_type": "code",
   "execution_count": 50,
   "metadata": {},
   "outputs": [],
   "source": [
    "# Function to train Collaborative Filtering Model\n",
    "def train_collaborative_model(user_item_matrix):\n",
    "    model = NearestNeighbors(metric='cosine', algorithm='brute')\n",
    "    model.fit(user_item_matrix)\n",
    "    with open('../models/collaborative_model.pkl', 'wb') as f:\n",
    "        pickle.dump(model, f)\n",
    "    return model\n"
   ]
  },
  {
   "cell_type": "code",
   "execution_count": 51,
   "metadata": {},
   "outputs": [],
   "source": [
    "# Function to train Hybrid Model\n",
    "def train_hybrid_model(user_item_matrix, item_profiles):\n",
    "    svd = TruncatedSVD(n_components=50, random_state=42)\n",
    "    user_item_matrix_svd = svd.fit_transform(user_item_matrix)\n",
    "    hybrid_model = {\n",
    "        'user_item_matrix': user_item_matrix,\n",
    "        'item_profiles': item_profiles,\n",
    "        'svd': svd,\n",
    "        'user_item_matrix_svd': user_item_matrix_svd\n",
    "    }\n",
    "    with open('../models/hybrid_model.pkl', 'wb') as f:\n",
    "        pickle.dump(hybrid_model, f)\n",
    "    return hybrid_model"
   ]
  },
  {
   "cell_type": "code",
   "execution_count": 52,
   "metadata": {},
   "outputs": [
    {
     "name": "stdout",
     "output_type": "stream",
     "text": [
      "Models trained and saved successfully.\n"
     ]
    }
   ],
   "source": [
    "# Train the models\n",
    "svd_model, user_item_matrix_svd = train_svd_model(train_data)\n",
    "content_model = train_content_model(item_profiles_df.drop(columns=['product_id']).values)\n",
    "collaborative_model = train_collaborative_model(train_data)\n",
    "hybrid_model = train_hybrid_model(train_data, item_profiles_df.drop(columns=['product_id']).values)\n",
    "\n",
    "print(\"Models trained and saved successfully.\")"
   ]
  }
 ],
 "metadata": {
  "kernelspec": {
   "display_name": "Python 3",
   "language": "python",
   "name": "python3"
  },
  "language_info": {
   "codemirror_mode": {
    "name": "ipython",
    "version": 3
   },
   "file_extension": ".py",
   "mimetype": "text/x-python",
   "name": "python",
   "nbconvert_exporter": "python",
   "pygments_lexer": "ipython3",
   "version": "3.11.6"
  }
 },
 "nbformat": 4,
 "nbformat_minor": 2
}
